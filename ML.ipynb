{
 "cells": [
  {
   "cell_type": "code",
   "execution_count": 2,
   "id": "0b1ffb77",
   "metadata": {},
   "outputs": [],
   "source": [
    "# Import bibliothèque de manipulation de dataframe\n",
    "import pandas as pd\n",
    "import numpy as np\n",
    "\n",
    "# Import split data\n",
    "from sklearn.model_selection import train_test_split\n",
    "\n",
    "# Import modèles de ML Supervisé Régression\n",
    "from sklearn.linear_model import LinearRegression\n",
    "\n",
    "# Import modèles de ML Supervisé Classification\n",
    "from sklearn.neighbors import KNeighborsClassifier\n",
    "from sklearn.linear_model import LogisticRegression\n",
    "\n",
    "# Import modèle de ML NON Supervisé\n",
    "from sklearn.neighbors import NearestNeighbors\n",
    "\n",
    "# Import des métriques\n",
    "from sklearn.metrics import mean_squared_error, r2_score, accuracy_score, classification_report, confusion_matrix, ConfusionMatrixDisplay\n",
    "\n",
    "# Import outil standardisation de la donnée\n",
    "from sklearn.preprocessing import StandardScaler\n",
    "\n",
    "# Import pipeline\n",
    "from sklearn.pipeline import Pipeline\n",
    "\n",
    "# Gestion des warnings\n",
    "import warnings\n",
    "\n",
    "from sklearn.preprocessing import MultiLabelBinarizer"
   ]
  },
  {
   "cell_type": "code",
   "execution_count": 5,
   "id": "91272028",
   "metadata": {},
   "outputs": [
    {
     "data": {
      "text/html": [
       "<div>\n",
       "<style scoped>\n",
       "    .dataframe tbody tr th:only-of-type {\n",
       "        vertical-align: middle;\n",
       "    }\n",
       "\n",
       "    .dataframe tbody tr th {\n",
       "        vertical-align: top;\n",
       "    }\n",
       "\n",
       "    .dataframe thead th {\n",
       "        text-align: right;\n",
       "    }\n",
       "</style>\n",
       "<table border=\"1\" class=\"dataframe\">\n",
       "  <thead>\n",
       "    <tr style=\"text-align: right;\">\n",
       "      <th></th>\n",
       "      <th>Unnamed: 0</th>\n",
       "      <th>title</th>\n",
       "      <th>startYear</th>\n",
       "      <th>runtimeMinutes</th>\n",
       "      <th>genres</th>\n",
       "      <th>actor_or_actress</th>\n",
       "      <th>director</th>\n",
       "      <th>producer</th>\n",
       "      <th>averageRating</th>\n",
       "      <th>numVotes</th>\n",
       "      <th>adult</th>\n",
       "      <th>backdrop_path</th>\n",
       "      <th>original_language</th>\n",
       "      <th>overview</th>\n",
       "      <th>poster_path</th>\n",
       "      <th>production_countries</th>\n",
       "      <th>release_date</th>\n",
       "      <th>production_companies_name</th>\n",
       "    </tr>\n",
       "  </thead>\n",
       "  <tbody>\n",
       "    <tr>\n",
       "      <th>0</th>\n",
       "      <td>0</td>\n",
       "      <td>The Devil</td>\n",
       "      <td>1915</td>\n",
       "      <td>NaN</td>\n",
       "      <td>Drama</td>\n",
       "      <td>NaN</td>\n",
       "      <td>Reginald Barker (1886, 1945), Thomas H. Ince (...</td>\n",
       "      <td>NaN</td>\n",
       "      <td>8.4</td>\n",
       "      <td>21</td>\n",
       "      <td>False</td>\n",
       "      <td>/51GGMpo2wDg6PsAwjg6U0p8ByOb.jpg</td>\n",
       "      <td>en</td>\n",
       "      <td>The Devil, in the guise of a human, meets a yo...</td>\n",
       "      <td>/4dy5FxYB4ezcnT7uDbLs5yhnkVj.jpg</td>\n",
       "      <td>['US']</td>\n",
       "      <td>1915-04-01</td>\n",
       "      <td>[]</td>\n",
       "    </tr>\n",
       "  </tbody>\n",
       "</table>\n",
       "</div>"
      ],
      "text/plain": [
       "   Unnamed: 0      title  startYear  runtimeMinutes genres actor_or_actress  \\\n",
       "0           0  The Devil       1915             NaN  Drama              NaN   \n",
       "\n",
       "                                            director producer  averageRating  \\\n",
       "0  Reginald Barker (1886, 1945), Thomas H. Ince (...      NaN            8.4   \n",
       "\n",
       "   numVotes  adult                     backdrop_path original_language  \\\n",
       "0        21  False  /51GGMpo2wDg6PsAwjg6U0p8ByOb.jpg                en   \n",
       "\n",
       "                                            overview  \\\n",
       "0  The Devil, in the guise of a human, meets a yo...   \n",
       "\n",
       "                        poster_path production_countries release_date  \\\n",
       "0  /4dy5FxYB4ezcnT7uDbLs5yhnkVj.jpg               ['US']   1915-04-01   \n",
       "\n",
       "  production_companies_name  \n",
       "0                        []  "
      ]
     },
     "execution_count": 5,
     "metadata": {},
     "output_type": "execute_result"
    }
   ],
   "source": [
    "df=pd.read_csv(\"final_poster.csv\")\n",
    "df.head(1)"
   ]
  },
  {
   "cell_type": "code",
   "execution_count": 46,
   "id": "3278cbb3",
   "metadata": {},
   "outputs": [],
   "source": [
    "# X = df[[\"genres\",\"actor_or_actress\",\"director\",\"producer\",\"release_date\"]] # Sélectionner depuis X_reg\n",
    "# y=df[\"title\"]\n",
    "# X_train, X_test, y_train, y_test = train_test_split(X, y, test_size=0.2, random_state=42)\n"
   ]
  },
  {
   "cell_type": "code",
   "execution_count": 47,
   "id": "3bdf7f2f",
   "metadata": {},
   "outputs": [],
   "source": [
    "# # Standardiser toutes ces features\n",
    "# scaler = StandardScaler()\n",
    "# X_scaled = scaler.fit_transform(X) # Standardiser X_class"
   ]
  },
  {
   "cell_type": "code",
   "execution_count": 13,
   "id": "8fa547c6",
   "metadata": {},
   "outputs": [],
   "source": [
    "cols = [\"genres\", \"actor_or_actress\",\"director\",\"producer\"]\n",
    "for col in cols:\n",
    "    df[col] = df[col].fillna(\"[]\")\n"
   ]
  },
  {
   "cell_type": "code",
   "execution_count": null,
   "id": "8699c207",
   "metadata": {},
   "outputs": [
    {
     "name": "stdout",
     "output_type": "stream",
     "text": [
      "Films similaires :\n",
      "- O Homem que Engarrafava Nuvens\n",
      "- ShowBusiness: The Road to Broadway\n",
      "- 5 Caméras brisées\n",
      "- The Weight of Chains 3\n",
      "- Folklore: The Long Pond Studio Sessions\n"
     ]
    }
   ],
   "source": [
    "k=6\n",
    "\n",
    "df[\"release_date\"] = df[\"release_date\"].replace(\"[]\", \"0000\")\n",
    "df[\"release_date\"] = df[\"release_date\"].fillna(\"0000\")\n",
    "df[\"release_date\"] = df[\"release_date\"].astype(str).str[:4]\n",
    "df[\"release_date\"] = df[\"release_date\"].astype(int)\n",
    "\n",
    "\n",
    "encoder_genres = MultiLabelBinarizer()\n",
    "X_genres = encoder_genres.fit_transform(df[\"genres\"])\n",
    "\n",
    "encoder_actors = MultiLabelBinarizer()\n",
    "X_actors = encoder_actors.fit_transform(df[\"actor_or_actress\"])\n",
    "\n",
    "encoder_actors = MultiLabelBinarizer()\n",
    "X_director = encoder_actors.fit_transform(df[\"director\"])\n",
    "\n",
    "encoder_actors = MultiLabelBinarizer()\n",
    "X_producer = encoder_actors.fit_transform(df[\"producer\"])\n",
    "\n",
    "X_date = df[[\"release_date\"]].values\n",
    "\n",
    "\n",
    "X_tot = np.hstack([X_genres, X_actors,X_director, X_producer,X_date])\n",
    "knn = NearestNeighbors(n_neighbors=k)\n",
    "knn.fit(X_tot)\n",
    "\n",
    "idx = df[df[\"title\"] == \"Edward aux mains d'argent\"].index[0]\n",
    "distances, indices = knn.kneighbors([X_tot[idx]])\n",
    "\n",
    "print(\"Films similaires :\")\n",
    "for i in indices[0][1:]:\n",
    "    print(\"-\", df.iloc[i][\"title\"])\n"
   ]
  }
 ],
 "metadata": {
  "kernelspec": {
   "display_name": "recommandationfilm",
   "language": "python",
   "name": "python3"
  },
  "language_info": {
   "codemirror_mode": {
    "name": "ipython",
    "version": 3
   },
   "file_extension": ".py",
   "mimetype": "text/x-python",
   "name": "python",
   "nbconvert_exporter": "python",
   "pygments_lexer": "ipython3",
   "version": "3.12.11"
  }
 },
 "nbformat": 4,
 "nbformat_minor": 5
}
